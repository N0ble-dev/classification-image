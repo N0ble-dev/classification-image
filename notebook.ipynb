{
 "cells": [
  {
   "cell_type": "code",
   "execution_count": null,
   "id": "import-libraries",
   "metadata": {},
   "outputs": [],
   "source": [
    "# Import required libraries\n",
    "import tensorflow as tf \n",
    "from tensorflow.keras.datasets import cifar10\n",
    "from tensorflow.keras.utils import to_categorical\n",
    "from tensorflow.keras.models import Sequential, save_model\n",
    "from tensorflow.keras.layers import Input, Conv2D, MaxPooling2D, Flatten, Dense, Dropout\n",
    "import numpy as np\n",
    "import matplotlib.pyplot as plt\n"
   ]
  },
  {
   "cell_type": "markdown",
   "id": "08516fb1",
   "metadata": {},
   "source": [
    "cifar10 --> to import datasets from cifar10 \n",
    "Sequential --> container of convolutional layers  \n"
   ]
  },
  {
   "cell_type": "code",
   "execution_count": null,
   "id": "load-dataset",
   "metadata": {},
   "outputs": [],
   "source": [
    "# Load the CIFAR-10 dataset, which contains 60,000 images divided into 10 classes.\n",
    "(x_train, y_train), (x_test, y_test) = cifar10.load_data()\n",
    "# Normalize the image pixel values to be in the range [0, 1] for better performance during training.\n",
    "x_train, x_test = x_train / 255.0, x_test / 255.0\n",
    "# Convert the labels to one-hot encoded vectors with 10 categories (one for each class).\n",
    "y_train = to_categorical(y_train, 10)\n",
    "y_test = to_categorical(y_test, 10)"
   ]
  },
  {
   "cell_type": "code",
   "execution_count": null,
   "id": "build-model",
   "metadata": {},
   "outputs": [],
   "source": [
    "# Define the sequential model architecture\n",
    "model = Sequential([\n",
    "    # Input layer with image shape (32x32 pixels, 3 color channels)\n",
    "    Input(shape=(32, 32, 3)),\n",
    "    # First convolutional layer with 32 filters and ReLU activation\n",
    "    Conv2D(32, (3, 3), activation='relu'),\n",
    "    # First max-pooling layer to down-sample the feature maps\n",
    "    MaxPooling2D((2, 2)),\n",
    "    # Second convolutional layer with 64 filters\n",
    "    Conv2D(64, (3, 3), activation='relu'),\n",
    "    MaxPooling2D((2, 2)),  # Second max-pooling layer for further down-sampling\n",
    "    # Third convolutional layer with 64 filters\n",
    "    Conv2D(64, (3, 3), activation='relu'),\n",
    "    Flatten(),  # Flatten the feature maps into a 1D vector for the fully connected layers\n",
    "    # Fully connected layer with 64 neurons and ReLU activation\n",
    "    Dense(64, activation='relu'),\n",
    "    # Dropout layer to reduce overfitting by randomly dropping 50% of neurons during training\n",
    "    Dropout(0.5),\n",
    "    # Output layer with 10 neurons (one for each class) and softmax activation\n",
    "    Dense(10, activation='softmax')\n",
    "])\n",
    "\n",
    "# Compile the model to prepare it for training\n",
    "model.compile(\n",
    "    optimizer='adam',  # Adam optimizer combines the benefits of both RMSprop and SGD, making it effective for most neural network tasks\n",
    "    # Loss function for multi-class classification tasks with one-hot encoded labels\n",
    "    loss='categorical_crossentropy',\n",
    "    # Metric to monitor during training and evaluation, measuring how often predictions match labels\n",
    "    metrics=['accuracy']\n",
    ")"
   ]
  },
  {
   "cell_type": "code",
   "execution_count": null,
   "id": "train-model",
   "metadata": {},
   "outputs": [],
   "source": [
    "# Train the model on the training data and validate it using the test data\n",
    "try:\n",
    "    history = model.fit(\n",
    "        x_train, y_train,  # Training features and labels\n",
    "        # Number of epochs to train the model (complete passes over the training dataset)\n",
    "        epochs=10,\n",
    "        # Validation data to monitor model performance after each epoch\n",
    "        validation_data=(x_test, y_test),\n",
    "        batch_size=64  # Number of samples processed before updating the model weights\n",
    "    )\n",
    "except Exception as e:\n",
    "    # Catch and display any errors that occur during training\n",
    "    print(f\"Error during training: {e}\")\n",
    "    raise  # Re-raise the exception to allow debugging"
   ]
  },
  {
   "cell_type": "code",
   "execution_count": null,
   "id": "evaluate-model",
   "metadata": {},
   "outputs": [],
   "source": [
    "# Evaluate the trained model on the test data to measure its performance\n",
    "try:\n",
    "    # Compute the loss and accuracy on the test set\n",
    "    test_loss, test_acc = model.evaluate(x_test, y_test, verbose=2)\n",
    "    # Print the test accuracy to assess the model's generalization\n",
    "    print(\"Test accuracy:\", test_acc)\n",
    "except Exception as e:\n",
    "    # Catch and display any errors that occur during evaluation\n",
    "    print(f\"Error during evaluation: {e}\")\n",
    "    raise  # Re-raise the exception to allow debugging"
   ]
  },
  {
   "cell_type": "code",
   "execution_count": null,
   "id": "save-model",
   "metadata": {},
   "outputs": [],
   "source": [
    "# Save the trained model to a file for later use\n",
    "try:\n",
    "    # Save the model in Keras format to the specified file\n",
    "    save_model(model, 'image_classification_model.keras')\n",
    "    # Confirm that the model was saved without issues\n",
    "    print(\"Model saved successfully.\")\n",
    "except Exception as e:\n",
    "    # Catch and display any errors that occur during the saving process\n",
    "    print(f\"Error saving the model: {e}\")\n",
    "    raise  # Re-raise the exception to allow debugging"
   ]
  },
  {
   "cell_type": "code",
   "execution_count": null,
   "id": "make-predictions",
   "metadata": {},
   "outputs": [],
   "source": [
    "# Make predictions on the test dataset and visualize the results\n",
    "try:\n",
    "    # Generate predictions for the test data\n",
    "    predictions = model.predict(x_test)\n",
    "\n",
    "    # Display the first 10 test images along with their predicted and actual labels\n",
    "    plt.figure(figsize=(10, 10))  # Set the figure size for the plot\n",
    "    for i in range(10):\n",
    "        # De-normalize the image (convert pixel values back to the range 0-255) for display\n",
    "        img_array = (x_test[i] * 255).astype(np.uint8)\n",
    "\n",
    "        # Plot each image in a 2x5 grid\n",
    "        plt.subplot(2, 5, i + 1)  # Specify the subplot grid position\n",
    "        plt.imshow(img_array)  # Display the image\n",
    "        plt.axis('off')  # Hide axis labels for cleaner visualization\n",
    "\n",
    "        # Display the predicted class and the actual class on the image title\n",
    "        plt.title(\n",
    "            f\"Pred: {predictions[i].argmax()}\\nActual: {y_test[i].argmax()}\")\n",
    "\n",
    "    plt.tight_layout()  # Adjust layout to prevent overlap\n",
    "    plt.show()  # Display the plot\n",
    "except Exception as e:\n",
    "    # Catch and display any errors that occur during prediction or visualization\n",
    "    print(f\"Error during prediction or visualization: {e}\")\n",
    "    raise  # Re-raise the exception to allow debugging"
   ]
  }
 ],
 "metadata": {
  "kernelspec": {
   "display_name": "Python 3",
   "language": "python",
   "name": "python3"
  },
  "language_info": {
   "codemirror_mode": {
    "name": "ipython",
    "version": 3
   },
   "file_extension": ".py",
   "mimetype": "text/x-python",
   "name": "python",
   "nbconvert_exporter": "python",
   "pygments_lexer": "ipython3",
   "version": "3.12"
  }
 },
 "nbformat": 4,
 "nbformat_minor": 5
}
